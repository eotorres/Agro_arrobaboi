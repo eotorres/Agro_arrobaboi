{
 "cells": [
  {
   "cell_type": "code",
   "execution_count": 41,
   "metadata": {
    "colab": {},
    "colab_type": "code",
    "id": "omcnMA_yZiF7"
   },
   "outputs": [],
   "source": [
    "# Importando os pacotes \n",
    "import pandas as pd\n",
    "import numpy as np\n",
    "import csv\n",
    "import os\n",
    "from os import listdir\n",
    "from os.path import isfile, join\n",
    "#from google.colab import drive"
   ]
  },
  {
   "cell_type": "code",
   "execution_count": 42,
   "metadata": {
    "colab": {},
    "colab_type": "code",
    "id": "pe5pp1kaEGuC"
   },
   "outputs": [],
   "source": [
    "# Definindo Diretorio\n",
    "path = \"\\\\Users\\\\emmanuel.torres\\\\Downloads\\\\Boi Gordo\\\\\"\n",
    "\n",
    "# Recuperando lista de ficheiros CSV do diretorio\n",
    "ficheiros = [f for f in listdir(path) if (isfile(join(path, f)) and f.endswith('.csv')) ]\n",
    "ficheiros.sort()"
   ]
  },
  {
   "cell_type": "code",
   "execution_count": 43,
   "metadata": {},
   "outputs": [
    {
     "data": {
      "text/plain": [
       "['BOI_GORDO.csv', 'IndBG_CEPEA.csv']"
      ]
     },
     "execution_count": 43,
     "metadata": {},
     "output_type": "execute_result"
    }
   ],
   "source": [
    "ficheiros"
   ]
  },
  {
   "cell_type": "code",
   "execution_count": 59,
   "metadata": {},
   "outputs": [
    {
     "data": {
      "text/html": [
       "<div>\n",
       "<style scoped>\n",
       "    .dataframe tbody tr th:only-of-type {\n",
       "        vertical-align: middle;\n",
       "    }\n",
       "\n",
       "    .dataframe tbody tr th {\n",
       "        vertical-align: top;\n",
       "    }\n",
       "\n",
       "    .dataframe thead th {\n",
       "        text-align: right;\n",
       "    }\n",
       "</style>\n",
       "<table border=\"1\" class=\"dataframe\">\n",
       "  <thead>\n",
       "    <tr style=\"text-align: right;\">\n",
       "      <th></th>\n",
       "      <th>Data_new</th>\n",
       "    </tr>\n",
       "  </thead>\n",
       "  <tbody>\n",
       "    <tr>\n",
       "      <th>0</th>\n",
       "      <td>BOI_GORDO.</td>\n",
       "    </tr>\n",
       "    <tr>\n",
       "      <th>1</th>\n",
       "      <td>IndBG_CEPE</td>\n",
       "    </tr>\n",
       "  </tbody>\n",
       "</table>\n",
       "</div>"
      ],
      "text/plain": [
       "     Data_new\n",
       "0  BOI_GORDO.\n",
       "1  IndBG_CEPE"
      ]
     },
     "execution_count": 59,
     "metadata": {},
     "output_type": "execute_result"
    }
   ],
   "source": [
    "# Definindo variáveis\n",
    "datas = []\n",
    "Pracas = []\n",
    "df_valores = pd.DataFrame()\n",
    "\n",
    "# Recuperando as datas e valores para cada ficheiro\n",
    "for item in ficheiros:\n",
    "    vard = item[0:10]\n",
    "    data = str(vard)\n",
    "    datas.append(data)\n",
    "    preco = []\n",
    "    with open(path + item, encoding = 'latin-1') as f:\n",
    "        reader = csv.reader(f, delimiter = ',')\n",
    "        for row in reader:\n",
    "            valor = row[1]\n",
    "            praca = row[0]\n",
    "            preco.append(valor)\n",
    "            Pracas.append(praca)\n",
    "            Pracas = Pracas[0:37]                            \n",
    "    df = pd.DataFrame(preco)\n",
    "    dft = df.T\n",
    "    df_valores = pd.concat([df_valores, dft], ignore_index = True)\n",
    "df_valores.columns = Pracas\n",
    "df_datas = pd.concat([pd.DataFrame([i], columns = ['Data_new']) for i in datas], ignore_index = True)\n",
    "df_valores.dropna()\n",
    "df_datas.dropna()"
   ]
  },
  {
   "cell_type": "code",
   "execution_count": 64,
   "metadata": {
    "colab": {
     "base_uri": "https://localhost:8080/",
     "height": 754
    },
    "colab_type": "code",
    "executionInfo": {
     "elapsed": 716,
     "status": "ok",
     "timestamp": 1600604896161,
     "user": {
      "displayName": "Thales Lima Silva",
      "photoUrl": "https://lh3.googleusercontent.com/a-/AOh14Gi5JEGIgIc__TNyLtZAO07kcOwbSGsSrjAc_si-=s64",
      "userId": "09166245338161766210"
     },
     "user_tz": 180
    },
    "id": "tcAvQFFwZiGV",
    "outputId": "7dcd4ecf-a498-4a03-ea60-d1adf14da78c"
   },
   "outputs": [
    {
     "data": {
      "text/html": [
       "<div>\n",
       "<style scoped>\n",
       "    .dataframe tbody tr th:only-of-type {\n",
       "        vertical-align: middle;\n",
       "    }\n",
       "\n",
       "    .dataframe tbody tr th {\n",
       "        vertical-align: top;\n",
       "    }\n",
       "\n",
       "    .dataframe thead th {\n",
       "        text-align: right;\n",
       "    }\n",
       "</style>\n",
       "<table border=\"1\" class=\"dataframe\">\n",
       "  <thead>\n",
       "    <tr style=\"text-align: right;\">\n",
       "      <th></th>\n",
       "      <th>Data</th>\n",
       "      <th>2021-04-30</th>\n",
       "      <th>2021-04-30</th>\n",
       "      <th>2021-04-30</th>\n",
       "      <th>2021-04-30</th>\n",
       "      <th>2021-04-30</th>\n",
       "      <th>2021-04-30</th>\n",
       "      <th>2021-04-30</th>\n",
       "      <th>2021-04-30</th>\n",
       "      <th>2021-04-30</th>\n",
       "      <th>...</th>\n",
       "      <th>2021-04-30</th>\n",
       "      <th>2021-04-30</th>\n",
       "      <th>2021-04-30</th>\n",
       "      <th>2021-04-30</th>\n",
       "      <th>2021-04-30</th>\n",
       "      <th>2021-04-30</th>\n",
       "      <th>Data</th>\n",
       "      <th>29/04/2021</th>\n",
       "      <th>28/04/2021</th>\n",
       "      <th>27/04/2021</th>\n",
       "    </tr>\n",
       "    <tr>\n",
       "      <th>Data_new</th>\n",
       "      <th></th>\n",
       "      <th></th>\n",
       "      <th></th>\n",
       "      <th></th>\n",
       "      <th></th>\n",
       "      <th></th>\n",
       "      <th></th>\n",
       "      <th></th>\n",
       "      <th></th>\n",
       "      <th></th>\n",
       "      <th></th>\n",
       "      <th></th>\n",
       "      <th></th>\n",
       "      <th></th>\n",
       "      <th></th>\n",
       "      <th></th>\n",
       "      <th></th>\n",
       "      <th></th>\n",
       "      <th></th>\n",
       "      <th></th>\n",
       "      <th></th>\n",
       "    </tr>\n",
       "  </thead>\n",
       "  <tbody>\n",
       "    <tr>\n",
       "      <th>BOI_GORDO.</th>\n",
       "      <td>Local</td>\n",
       "      <td>SP Barretos</td>\n",
       "      <td>SP AraÃ§atuba</td>\n",
       "      <td>MG TriÃ¢ngulo</td>\n",
       "      <td>MG B.Horizonte</td>\n",
       "      <td>MG Norte</td>\n",
       "      <td>MG Sul</td>\n",
       "      <td>GO GoiÃ¢nia</td>\n",
       "      <td>GO Reg. Sul</td>\n",
       "      <td>MS Dourados</td>\n",
       "      <td>...</td>\n",
       "      <td>RO Sudeste</td>\n",
       "      <td>TO Sul</td>\n",
       "      <td>TO Norte</td>\n",
       "      <td>Acre</td>\n",
       "      <td>ES</td>\n",
       "      <td>RJ</td>\n",
       "      <td>NaN</td>\n",
       "      <td>NaN</td>\n",
       "      <td>NaN</td>\n",
       "      <td>NaN</td>\n",
       "    </tr>\n",
       "    <tr>\n",
       "      <th>IndBG_CEPE</th>\n",
       "      <td>Valor_RS</td>\n",
       "      <td>313,70</td>\n",
       "      <td>312,10</td>\n",
       "      <td>313,40</td>\n",
       "      <td>315,60</td>\n",
       "      <td>315,40</td>\n",
       "      <td>316,65</td>\n",
       "      <td>315,85</td>\n",
       "      <td>315,40</td>\n",
       "      <td>312,60</td>\n",
       "      <td>...</td>\n",
       "      <td>317,37</td>\n",
       "      <td>316,55</td>\n",
       "      <td>316,10</td>\n",
       "      <td>313,34</td>\n",
       "      <td>320,11</td>\n",
       "      <td>320,75</td>\n",
       "      <td>317,39</td>\n",
       "      <td>317,15</td>\n",
       "      <td>320,12</td>\n",
       "      <td>317,55</td>\n",
       "    </tr>\n",
       "  </tbody>\n",
       "</table>\n",
       "<p>2 rows × 37 columns</p>\n",
       "</div>"
      ],
      "text/plain": [
       "                Data   2021-04-30     2021-04-30     2021-04-30  \\\n",
       "Data_new                                                          \n",
       "BOI_GORDO.     Local  SP Barretos  SP AraÃ§atuba  MG TriÃ¢ngulo   \n",
       "IndBG_CEPE  Valor_RS       313,70         312,10         313,40   \n",
       "\n",
       "                2021-04-30 2021-04-30 2021-04-30   2021-04-30   2021-04-30  \\\n",
       "Data_new                                                                     \n",
       "BOI_GORDO.  MG B.Horizonte   MG Norte     MG Sul  GO GoiÃ¢nia  GO Reg. Sul   \n",
       "IndBG_CEPE          315,60     315,40     316,65       315,85       315,40   \n",
       "\n",
       "             2021-04-30  ...  2021-04-30 2021-04-30 2021-04-30 2021-04-30  \\\n",
       "Data_new                 ...                                                \n",
       "BOI_GORDO.  MS Dourados  ...  RO Sudeste     TO Sul   TO Norte       Acre   \n",
       "IndBG_CEPE       312,60  ...      317,37     316,55     316,10     313,34   \n",
       "\n",
       "           2021-04-30 2021-04-30    Data 29/04/2021 28/04/2021 27/04/2021  \n",
       "Data_new                                                                   \n",
       "BOI_GORDO.         ES         RJ     NaN        NaN        NaN        NaN  \n",
       "IndBG_CEPE     320,11     320,75  317,39     317,15     320,12     317,55  \n",
       "\n",
       "[2 rows x 37 columns]"
      ]
     },
     "execution_count": 64,
     "metadata": {},
     "output_type": "execute_result"
    }
   ],
   "source": [
    "# Unindo datas e valores num unico dataframe\n",
    "mfbg = df_datas.join(df_valores)\n",
    "mfbg.set_index('Data_new', inplace = True)\n",
    "mfbg.tail(20)"
   ]
  },
  {
   "cell_type": "code",
   "execution_count": 66,
   "metadata": {
    "colab": {},
    "colab_type": "code",
    "id": "6ReN6s0LPw_E"
   },
   "outputs": [
    {
     "data": {
      "text/html": [
       "<div>\n",
       "<style scoped>\n",
       "    .dataframe tbody tr th:only-of-type {\n",
       "        vertical-align: middle;\n",
       "    }\n",
       "\n",
       "    .dataframe tbody tr th {\n",
       "        vertical-align: top;\n",
       "    }\n",
       "\n",
       "    .dataframe thead th {\n",
       "        text-align: right;\n",
       "    }\n",
       "</style>\n",
       "<table border=\"1\" class=\"dataframe\">\n",
       "  <thead>\n",
       "    <tr style=\"text-align: right;\">\n",
       "      <th></th>\n",
       "      <th>Data</th>\n",
       "      <th>2021-04-30</th>\n",
       "      <th>2021-04-30</th>\n",
       "      <th>2021-04-30</th>\n",
       "      <th>2021-04-30</th>\n",
       "      <th>2021-04-30</th>\n",
       "      <th>2021-04-30</th>\n",
       "      <th>2021-04-30</th>\n",
       "      <th>2021-04-30</th>\n",
       "      <th>2021-04-30</th>\n",
       "      <th>...</th>\n",
       "      <th>2021-04-30</th>\n",
       "      <th>2021-04-30</th>\n",
       "      <th>2021-04-30</th>\n",
       "      <th>2021-04-30</th>\n",
       "      <th>2021-04-30</th>\n",
       "      <th>2021-04-30</th>\n",
       "      <th>Data</th>\n",
       "      <th>29/04/2021</th>\n",
       "      <th>28/04/2021</th>\n",
       "      <th>27/04/2021</th>\n",
       "    </tr>\n",
       "    <tr>\n",
       "      <th>Data_new</th>\n",
       "      <th></th>\n",
       "      <th></th>\n",
       "      <th></th>\n",
       "      <th></th>\n",
       "      <th></th>\n",
       "      <th></th>\n",
       "      <th></th>\n",
       "      <th></th>\n",
       "      <th></th>\n",
       "      <th></th>\n",
       "      <th></th>\n",
       "      <th></th>\n",
       "      <th></th>\n",
       "      <th></th>\n",
       "      <th></th>\n",
       "      <th></th>\n",
       "      <th></th>\n",
       "      <th></th>\n",
       "      <th></th>\n",
       "      <th></th>\n",
       "      <th></th>\n",
       "    </tr>\n",
       "  </thead>\n",
       "  <tbody>\n",
       "    <tr>\n",
       "      <th>BOI_GORDO.</th>\n",
       "      <td>Local</td>\n",
       "      <td>SP Barretos</td>\n",
       "      <td>SP AraÃ§atuba</td>\n",
       "      <td>MG TriÃ¢ngulo</td>\n",
       "      <td>MG B.Horizonte</td>\n",
       "      <td>MG Norte</td>\n",
       "      <td>MG Sul</td>\n",
       "      <td>GO GoiÃ¢nia</td>\n",
       "      <td>GO Reg. Sul</td>\n",
       "      <td>MS Dourados</td>\n",
       "      <td>...</td>\n",
       "      <td>RO Sudeste</td>\n",
       "      <td>TO Sul</td>\n",
       "      <td>TO Norte</td>\n",
       "      <td>Acre</td>\n",
       "      <td>ES</td>\n",
       "      <td>RJ</td>\n",
       "      <td>0</td>\n",
       "      <td>0</td>\n",
       "      <td>0</td>\n",
       "      <td>0</td>\n",
       "    </tr>\n",
       "    <tr>\n",
       "      <th>IndBG_CEPE</th>\n",
       "      <td>Valor_RS</td>\n",
       "      <td>313,70</td>\n",
       "      <td>312,10</td>\n",
       "      <td>313,40</td>\n",
       "      <td>315,60</td>\n",
       "      <td>315,40</td>\n",
       "      <td>316,65</td>\n",
       "      <td>315,85</td>\n",
       "      <td>315,40</td>\n",
       "      <td>312,60</td>\n",
       "      <td>...</td>\n",
       "      <td>317,37</td>\n",
       "      <td>316,55</td>\n",
       "      <td>316,10</td>\n",
       "      <td>313,34</td>\n",
       "      <td>320,11</td>\n",
       "      <td>320,75</td>\n",
       "      <td>317,39</td>\n",
       "      <td>317,15</td>\n",
       "      <td>320,12</td>\n",
       "      <td>317,55</td>\n",
       "    </tr>\n",
       "  </tbody>\n",
       "</table>\n",
       "<p>2 rows × 37 columns</p>\n",
       "</div>"
      ],
      "text/plain": [
       "                Data   2021-04-30     2021-04-30     2021-04-30  \\\n",
       "Data_new                                                          \n",
       "BOI_GORDO.     Local  SP Barretos  SP AraÃ§atuba  MG TriÃ¢ngulo   \n",
       "IndBG_CEPE  Valor_RS       313,70         312,10         313,40   \n",
       "\n",
       "                2021-04-30 2021-04-30 2021-04-30   2021-04-30   2021-04-30  \\\n",
       "Data_new                                                                     \n",
       "BOI_GORDO.  MG B.Horizonte   MG Norte     MG Sul  GO GoiÃ¢nia  GO Reg. Sul   \n",
       "IndBG_CEPE          315,60     315,40     316,65       315,85       315,40   \n",
       "\n",
       "             2021-04-30  ...  2021-04-30 2021-04-30 2021-04-30 2021-04-30  \\\n",
       "Data_new                 ...                                                \n",
       "BOI_GORDO.  MS Dourados  ...  RO Sudeste     TO Sul   TO Norte       Acre   \n",
       "IndBG_CEPE       312,60  ...      317,37     316,55     316,10     313,34   \n",
       "\n",
       "           2021-04-30 2021-04-30    Data 29/04/2021 28/04/2021 27/04/2021  \n",
       "Data_new                                                                   \n",
       "BOI_GORDO.         ES         RJ       0          0          0          0  \n",
       "IndBG_CEPE     320,11     320,75  317,39     317,15     320,12     317,55  \n",
       "\n",
       "[2 rows x 37 columns]"
      ]
     },
     "execution_count": 66,
     "metadata": {},
     "output_type": "execute_result"
    }
   ],
   "source": [
    "mfbg.fillna(0)"
   ]
  },
  {
   "cell_type": "code",
   "execution_count": 74,
   "metadata": {
    "colab": {},
    "colab_type": "code",
    "id": "cPkQmQ0AZiGg"
   },
   "outputs": [],
   "source": [
    "# Salvando dataframe como arquivo '.csv'\n",
    "mfbg.to_csv(\"\\\\Users\\\\emmanuel.torres\\\\Downloads\\\\Boi Gordo//BDMFBG.csv\", sep = \",\")"
   ]
  },
  {
   "cell_type": "markdown",
   "metadata": {
    "colab_type": "text",
    "id": "0O0VUzN8ZiHb"
   },
   "source": [
    "## Fim"
   ]
  },
  {
   "cell_type": "code",
   "execution_count": null,
   "metadata": {},
   "outputs": [],
   "source": [
    "import pandas as pd\n",
    "\n",
    "df = pd.read_csv(\"BDMFBG.csv\")\n",
    "display(df)"
   ]
  },
  {
   "cell_type": "code",
   "execution_count": null,
   "metadata": {},
   "outputs": [],
   "source": [
    "df.rename(columns = {'Data_new' : 'Local'}, inplace = True)"
   ]
  },
  {
   "cell_type": "code",
   "execution_count": null,
   "metadata": {},
   "outputs": [],
   "source": [
    "df_ajustado = df.drop(columns=['Data', '29/04/2021','28/04/2021','27/04/2021','Data.1'])"
   ]
  },
  {
   "cell_type": "code",
   "execution_count": null,
   "metadata": {},
   "outputs": [],
   "source": [
    "df_ajustado.to_csv(\"\\\\Users\\\\emmanuel.torres\\\\Downloads\\\\Boi Gordo//BDMFBG_Ajustado.csv\", sep = \",\")"
   ]
  }
 ],
 "metadata": {
  "colab": {
   "collapsed_sections": [],
   "name": "Cópia de Juntagado.ipynb",
   "provenance": [
    {
     "file_id": "1sW5TB0hdx8hPghx_Rw4tL_gOREYJpwlF",
     "timestamp": 1600626760808
    }
   ]
  },
  "kernelspec": {
   "display_name": "Python 3",
   "language": "python",
   "name": "python3"
  },
  "language_info": {
   "codemirror_mode": {
    "name": "ipython",
    "version": 3
   },
   "file_extension": ".py",
   "mimetype": "text/x-python",
   "name": "python",
   "nbconvert_exporter": "python",
   "pygments_lexer": "ipython3",
   "version": "3.7.6"
  }
 },
 "nbformat": 4,
 "nbformat_minor": 1
}
